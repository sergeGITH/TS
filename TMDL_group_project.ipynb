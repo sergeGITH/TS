{
  "nbformat": 4,
  "nbformat_minor": 0,
  "metadata": {
    "colab": {
      "provenance": [],
      "include_colab_link": true
    },
    "kernelspec": {
      "name": "python3",
      "display_name": "Python 3"
    },
    "language_info": {
      "name": "python"
    }
  },
  "cells": [
    {
      "cell_type": "markdown",
      "metadata": {
        "id": "view-in-github",
        "colab_type": "text"
      },
      "source": [
        "<a href=\"https://colab.research.google.com/github/sergeGITH/TS/blob/main/TMDL_group_project.ipynb\" target=\"_parent\"><img src=\"https://colab.research.google.com/assets/colab-badge.svg\" alt=\"Open In Colab\"/></a>"
      ]
    },
    {
      "cell_type": "code",
      "execution_count": null,
      "metadata": {
        "id": "EoUyD3ehQoUO",
        "colab": {
          "base_uri": "https://localhost:8080/"
        },
        "outputId": "b011013e-6a62-45e9-e94c-9f5cb1287952"
      },
      "outputs": [
        {
          "output_type": "stream",
          "name": "stdout",
          "text": [
            "Path to dataset files: /root/.cache/kagglehub/datasets/joebeachcapital/loan-default/versions/1\n"
          ]
        }
      ],
      "source": [
        "import kagglehub\n",
        "\n",
        "# download latest version\n",
        "path = kagglehub.dataset_download(\"joebeachcapital/loan-default\")\n",
        "\n",
        "print(\"Path to dataset files:\", path)"
      ]
    },
    {
      "cell_type": "code",
      "source": [
        "import os\n",
        "\n",
        "# list files in the dataset folder\n",
        "dataset_folder = \"/root/.cache/kagglehub/datasets/joebeachcapital/loan-default/versions/1/\"\n",
        "files = os.listdir(dataset_folder)\n",
        "\n",
        "print(\"Files in dataset folder:\", files)"
      ],
      "metadata": {
        "colab": {
          "base_uri": "https://localhost:8080/"
        },
        "id": "sOK_3K73mqIG",
        "outputId": "bee8c403-0b7c-4171-8ba9-c1f2e2117ff8"
      },
      "execution_count": null,
      "outputs": [
        {
          "output_type": "stream",
          "name": "stdout",
          "text": [
            "Files in dataset folder: ['Anonymize_Loan_Default_data.csv']\n"
          ]
        }
      ]
    },
    {
      "cell_type": "code",
      "source": [
        "import pandas as pd\n",
        "\n",
        "file_path = os.path.join(dataset_folder, 'Anonymize_Loan_Default_data.csv')\n",
        "\n",
        "# load the dataset into a df\n",
        "df = pd.read_csv(file_path, encoding='ISO-8859-1')\n",
        "\n",
        "# display the first few rows to confirm its loaded correctly\n",
        "print(df.head())"
      ],
      "metadata": {
        "colab": {
          "base_uri": "https://localhost:8080/"
        },
        "id": "RktnxLsWmHDu",
        "outputId": "d8020593-e051-481a-9e17-a9acf72a3cc2"
      },
      "execution_count": null,
      "outputs": [
        {
          "output_type": "stream",
          "name": "stdout",
          "text": [
            "   Unnamed: 0      id  member_id  loan_amnt  funded_amnt  funded_amnt_inv  \\\n",
            "0           2       2          2        0.0          0.0              0.0   \n",
            "1           3  545583     703644     2500.0       2500.0           2500.0   \n",
            "2           4  532101     687836     5000.0       5000.0           5000.0   \n",
            "3           5  877788    1092507     7000.0       7000.0           7000.0   \n",
            "4           6  875406    1089981     2000.0       2000.0           2000.0   \n",
            "\n",
            "        term  int_rate  installment emp_length  ... total_acc  total_pymnt  \\\n",
            "0  36 months      0.00         0.00   < 1 year  ...       1.0     0.000000   \n",
            "1  36 months     13.98        85.42    4 years  ...      10.0  3075.291779   \n",
            "2  36 months     15.95       175.67    4 years  ...      15.0  2948.760000   \n",
            "3  36 months      9.91       225.58  10+ years  ...      20.0  8082.391880   \n",
            "4  36 months      5.42        60.32  10+ years  ...      15.0  2161.663244   \n",
            "\n",
            "  total_pymnt_inv total_rec_prncp total_rec_int last_pymnt_d last_pymnt_amnt  \\\n",
            "0            0.00            0.00          0.00       Jan-07            0.00   \n",
            "1         3075.29         2500.00        575.29       Jul-13           90.85   \n",
            "2         2948.76         1909.02        873.81       Nov-11          175.67   \n",
            "3         8082.39         7000.00       1082.39       Mar-14         1550.27   \n",
            "4         2161.66         2000.00        161.66       Feb-14           53.12   \n",
            "\n",
            "  next_pymnt_d  last_credit_pull_d  repay_fail  \n",
            "0       Jan-07              Jan-07           1  \n",
            "1       Aug-13              Jun-16           0  \n",
            "2          NaN              Mar-12           1  \n",
            "3          NaN              Mar-14           0  \n",
            "4          NaN              Jun-16           0  \n",
            "\n",
            "[5 rows x 37 columns]\n"
          ]
        }
      ]
    },
    {
      "cell_type": "code",
      "source": [
        "# get descriptive statistics\n",
        "print(df.describe())"
      ],
      "metadata": {
        "colab": {
          "base_uri": "https://localhost:8080/"
        },
        "id": "oho2qrIamfqg",
        "outputId": "32604b32-0d49-40a0-e629-238e88e59f8a"
      },
      "execution_count": null,
      "outputs": [
        {
          "output_type": "stream",
          "name": "stdout",
          "text": [
            "         Unnamed: 0            id     member_id     loan_amnt   funded_amnt  \\\n",
            "count  38480.000000  3.848000e+04  3.848000e+04  38479.000000  38479.000000   \n",
            "mean   19240.500000  6.649979e+05  8.261899e+05  11094.727644  10831.856337   \n",
            "std    11108.363516  2.192322e+05  2.793531e+05   7405.416042   7146.853682   \n",
            "min        1.000000  1.000000e+00  1.000000e+00      0.000000      0.000000   \n",
            "25%     9620.750000  4.983645e+05  6.384620e+05   5200.000000   5100.000000   \n",
            "50%    19240.500000  6.443195e+05  8.242545e+05   9750.000000   9600.000000   \n",
            "75%    28860.250000  8.265608e+05  1.034706e+06  15000.000000  15000.000000   \n",
            "max    38480.000000  1.077430e+06  1.314167e+06  35000.000000  35000.000000   \n",
            "\n",
            "       funded_amnt_inv     int_rate   installment    annual_inc           dti  \\\n",
            "count     38479.000000  38480.00000  38479.000000  3.847800e+04  38480.000000   \n",
            "mean      10150.141518     12.16430    323.163255  6.899531e+04     13.378119   \n",
            "std        7128.026828      3.73744    209.089097  6.447639e+04      6.744356   \n",
            "min           0.000000      0.00000      0.000000  0.000000e+00      0.000000   \n",
            "25%        4950.000000      9.62000    165.740000  4.000000e+04      8.200000   \n",
            "50%        8495.792749     11.99000    277.980000  5.865000e+04     13.485000   \n",
            "75%       14000.000000     14.72000    429.350000  8.200000e+04     18.690000   \n",
            "max       35000.000000    100.99000   1305.190000  6.000000e+06    100.000000   \n",
            "\n",
            "       ...      open_acc       pub_rec     revol_bal     total_acc  \\\n",
            "count  ...  38479.000000  38479.000000  3.847600e+04  38479.000000   \n",
            "mean   ...      9.342966      0.057902  1.428987e+04     22.108501   \n",
            "std    ...      4.498075      0.245707  2.194138e+04     11.588602   \n",
            "min    ...      0.000000      0.000000  0.000000e+00      1.000000   \n",
            "25%    ...      6.000000      0.000000  3.639750e+03     13.000000   \n",
            "50%    ...      9.000000      0.000000  8.839500e+03     20.000000   \n",
            "75%    ...     12.000000      0.000000  1.726550e+04     29.000000   \n",
            "max    ...     47.000000      5.000000  1.207359e+06     90.000000   \n",
            "\n",
            "        total_pymnt  total_pymnt_inv  total_rec_prncp  total_rec_int  \\\n",
            "count  38479.000000     38479.000000     38479.000000   38479.000000   \n",
            "mean   11980.696892     11274.519569      9646.412705    2232.768235   \n",
            "std     9006.505205      8946.229941      7051.828302    2570.177312   \n",
            "min        0.000000         0.000000         0.000000       0.000000   \n",
            "25%     5463.099238      4811.735000      4400.000000     657.700000   \n",
            "50%     9673.221341      8953.240000      8000.000000    1335.090000   \n",
            "75%    16402.394995     15486.925000     13315.100000    2795.020000   \n",
            "max    58563.679930     58563.680000     35000.020000   23611.100000   \n",
            "\n",
            "       last_pymnt_amnt    repay_fail  \n",
            "count     38479.000000  38480.000000  \n",
            "mean       2614.441757      0.151481  \n",
            "std        4391.969583      0.358522  \n",
            "min           0.000000      0.000000  \n",
            "25%         212.010000      0.000000  \n",
            "50%         526.000000      0.000000  \n",
            "75%        3169.815000      0.000000  \n",
            "max       36115.200000      1.000000  \n",
            "\n",
            "[8 rows x 23 columns]\n"
          ]
        }
      ]
    }
  ]
}